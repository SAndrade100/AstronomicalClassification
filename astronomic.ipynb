{
 "cells": [
  {
   "cell_type": "markdown",
   "id": "e3e87780-037a-43fb-91d8-b963e73b62e6",
   "metadata": {},
   "source": [
    "### Instalações"
   ]
  },
  {
   "cell_type": "markdown",
   "id": "9820c718-6118-47f7-be9a-30b1a2750926",
   "metadata": {},
   "source": [
    "### Importando bibliotecas"
   ]
  },
  {
   "cell_type": "code",
   "execution_count": 5,
   "id": "e0329345-f4cf-44a3-912c-5e6115fc40e3",
   "metadata": {},
   "outputs": [
    {
     "name": "stdout",
     "output_type": "stream",
     "text": [
      "Requirement already satisfied: scikit-learn in c:\\users\\andra\\appdata\\local\\programs\\python\\python313\\lib\\site-packages (1.6.1)\n",
      "Collecting pandas\n",
      "  Downloading pandas-2.2.3-cp313-cp313-win_amd64.whl.metadata (19 kB)\n",
      "Requirement already satisfied: numpy in c:\\users\\andra\\appdata\\local\\programs\\python\\python313\\lib\\site-packages (2.2.1)\n",
      "Requirement already satisfied: scipy>=1.6.0 in c:\\users\\andra\\appdata\\local\\programs\\python\\python313\\lib\\site-packages (from scikit-learn) (1.15.1)\n",
      "Requirement already satisfied: joblib>=1.2.0 in c:\\users\\andra\\appdata\\local\\programs\\python\\python313\\lib\\site-packages (from scikit-learn) (1.4.2)\n",
      "Requirement already satisfied: threadpoolctl>=3.1.0 in c:\\users\\andra\\appdata\\local\\programs\\python\\python313\\lib\\site-packages (from scikit-learn) (3.5.0)\n",
      "Requirement already satisfied: python-dateutil>=2.8.2 in c:\\users\\andra\\appdata\\local\\programs\\python\\python313\\lib\\site-packages (from pandas) (2.9.0.post0)\n",
      "Collecting pytz>=2020.1 (from pandas)\n",
      "  Downloading pytz-2024.2-py2.py3-none-any.whl.metadata (22 kB)\n",
      "Collecting tzdata>=2022.7 (from pandas)\n",
      "  Downloading tzdata-2024.2-py2.py3-none-any.whl.metadata (1.4 kB)\n",
      "Requirement already satisfied: six>=1.5 in c:\\users\\andra\\appdata\\local\\programs\\python\\python313\\lib\\site-packages (from python-dateutil>=2.8.2->pandas) (1.17.0)\n",
      "Downloading pandas-2.2.3-cp313-cp313-win_amd64.whl (11.5 MB)\n",
      "   ---------------------------------------- 0.0/11.5 MB ? eta -:--:--\n",
      "    --------------------------------------- 0.3/11.5 MB ? eta -:--:--\n",
      "   ---- ----------------------------------- 1.3/11.5 MB 5.5 MB/s eta 0:00:02\n",
      "   ---------- ----------------------------- 2.9/11.5 MB 6.0 MB/s eta 0:00:02\n",
      "   -------------- ------------------------- 4.2/11.5 MB 6.2 MB/s eta 0:00:02\n",
      "   -------------------- ------------------- 5.8/11.5 MB 6.4 MB/s eta 0:00:01\n",
      "   ------------------------ --------------- 7.1/11.5 MB 6.5 MB/s eta 0:00:01\n",
      "   ------------------------------ --------- 8.7/11.5 MB 6.6 MB/s eta 0:00:01\n",
      "   -------------------------------- ------- 9.4/11.5 MB 6.1 MB/s eta 0:00:01\n",
      "   ---------------------------------------  11.3/11.5 MB 6.5 MB/s eta 0:00:01\n",
      "   ---------------------------------------- 11.5/11.5 MB 6.4 MB/s eta 0:00:00\n",
      "Downloading pytz-2024.2-py2.py3-none-any.whl (508 kB)\n",
      "Downloading tzdata-2024.2-py2.py3-none-any.whl (346 kB)\n",
      "Installing collected packages: pytz, tzdata, pandas\n",
      "Successfully installed pandas-2.2.3 pytz-2024.2 tzdata-2024.2\n"
     ]
    }
   ],
   "source": [
    "!pip install scikit-learn pandas numpy"
   ]
  },
  {
   "cell_type": "code",
   "execution_count": null,
   "id": "3f5b35ec-80a0-4b14-b2aa-e3bf3e1e90a3",
   "metadata": {},
   "outputs": [],
   "source": [
    "import pandas as pd\n",
    "import numpy as np\n",
    "\n",
    "from sklearn.model_selection import train_test_split\n",
    "from sklearn.ensemble import RandomForestClassifier\n",
    "from sklearn.metrics import accuracy_score, classification_report\n",
    "from sklearn.metrics import accuracy_score, classification_report, confusion_matrix"
   ]
  },
  {
   "cell_type": "markdown",
   "id": "3921de69-7f27-4495-adee-98fa58fbb3a9",
   "metadata": {},
   "source": [
    "### Leitura dos dados"
   ]
  },
  {
   "cell_type": "code",
   "execution_count": null,
   "id": "9a598bf5-4c0f-49bc-adb9-36ab0e0925b4",
   "metadata": {},
   "outputs": [],
   "source": [
    "df = pd.read_csv(\"Skyserver_SQL2_27_2018 6_51_39 PM.csv\")"
   ]
  },
  {
   "cell_type": "code",
   "execution_count": null,
   "id": "92de3cab-d4d8-4cda-8e6b-d33f81526198",
   "metadata": {},
   "outputs": [],
   "source": [
    "df.head()"
   ]
  },
  {
   "cell_type": "code",
   "execution_count": null,
   "id": "16bfa8a9-f91a-49c2-8656-6730dcfcf1b8",
   "metadata": {},
   "outputs": [],
   "source": [
    "contagem_tipos = df['class'].value_counts()\n",
    "print(contagem_tipos)"
   ]
  },
  {
   "cell_type": "markdown",
   "id": "501c9e16-3a73-4a64-b6b7-b3f812da54e2",
   "metadata": {},
   "source": [
    "### Treinamento do modelo"
   ]
  },
  {
   "cell_type": "code",
   "execution_count": null,
   "id": "bab8d50d-3314-4531-b9b8-ee27b82e869e",
   "metadata": {},
   "outputs": [],
   "source": [
    "df = df.dropna(subset=['class'])\n",
    "\n",
    "X = df[['ra', 'dec', 'u', 'g', 'r', 'i', 'z', 'redshift']]\n",
    "y = df['class'].map({'STAR': 0, 'GALAXY': 1, 'QSO': 2, 'OTHER': 3})\n",
    "\n",
    "X_train, X_test, y_train, y_test = train_test_split(X, y, test_size=0.2, random_state=42)\n"
   ]
  },
  {
   "cell_type": "code",
   "execution_count": null,
   "id": "97303eb1-b249-47c4-8f6d-406bacae088b",
   "metadata": {},
   "outputs": [],
   "source": [
    "model = RandomForestClassifier(n_estimators=100, random_state=42)\n",
    "model.fit(X_train, y_train)\n",
    "\n",
    "y_pred = model.predict(X_test)"
   ]
  },
  {
   "cell_type": "code",
   "execution_count": null,
   "id": "31f87639-be8a-462a-a9ed-c73fea675730",
   "metadata": {},
   "outputs": [],
   "source": [
    "print(\"Acurácia:\", accuracy_score(y_test, y_pred))\n",
    "\n",
    "print(\"\\nRelatório de Classificação:\\n\", classification_report(y_test, y_pred))\n",
    "\n",
    "print(\"\\nMatriz de Confusão:\\n\", confusion_matrix(y_test, y_pred))"
   ]
  },
  {
   "cell_type": "markdown",
   "id": "40c1cb50-c5d0-4529-b328-de1c77648b96",
   "metadata": {},
   "source": [
    "### Testando"
   ]
  },
  {
   "cell_type": "code",
   "execution_count": null,
   "id": "a4f66c7e-2ea1-4556-b031-19ea866203ee",
   "metadata": {},
   "outputs": [],
   "source": [
    "exemplo = pd.DataFrame([[183.531326, 0.089693, 19.47406, 17.04240, 15.94699, 15.50342,  15.22531, -0.000009]],\n",
    "                            columns=['ra', 'dec', 'u', 'g', 'r', 'i', 'z', 'redshift'])\n",
    "\n",
    "previsao = model.predict(exemplo)\n",
    "\n",
    "print(f\"A previsão do modelo para o exemplo é: {previsao}\")"
   ]
  },
  {
   "cell_type": "code",
   "execution_count": null,
   "id": "1bee43db-b849-41cb-afc5-ab501d733863",
   "metadata": {},
   "outputs": [],
   "source": [
    "exemplos_aleatorios = pd.DataFrame(np.random.rand(5, 8), columns=['ra', 'dec', 'u', 'g', 'r', 'i', 'z', 'redshift'])\n",
    "\n",
    "previsoes = model.predict(exemplos_aleatorios)\n",
    "\n",
    "exemplos_aleatorios['previsao'] = previsoes\n",
    "print(exemplos_aleatorios)"
   ]
  },
  {
   "cell_type": "code",
   "execution_count": null,
   "id": "e1baf380-4227-42b4-a96e-979098e4edcf",
   "metadata": {},
   "outputs": [],
   "source": []
  }
 ],
 "metadata": {
  "kernelspec": {
   "display_name": "Python 3 (ipykernel)",
   "language": "python",
   "name": "python3"
  },
  "language_info": {
   "codemirror_mode": {
    "name": "ipython",
    "version": 3
   },
   "file_extension": ".py",
   "mimetype": "text/x-python",
   "name": "python",
   "nbconvert_exporter": "python",
   "pygments_lexer": "ipython3",
   "version": "3.13.1"
  }
 },
 "nbformat": 4,
 "nbformat_minor": 5
}
